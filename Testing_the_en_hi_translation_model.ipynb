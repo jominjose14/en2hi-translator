{
  "nbformat": 4,
  "nbformat_minor": 0,
  "metadata": {
    "colab": {
      "name": "Testing the en-hi translation model.ipynb",
      "provenance": [],
      "collapsed_sections": []
    },
    "kernelspec": {
      "name": "python3",
      "display_name": "Python 3"
    },
    "language_info": {
      "name": "python"
    },
    "accelerator": "GPU"
  },
  "cells": [
    {
      "cell_type": "markdown",
      "metadata": {
        "id": "L_Zof4kVVsiu"
      },
      "source": [
        "### **Testing the model**"
      ]
    },
    {
      "cell_type": "code",
      "metadata": {
        "colab": {
          "base_uri": "https://localhost:8080/"
        },
        "id": "h99fgG4iUEo_",
        "outputId": "00ead7b4-7cce-4aa1-86e8-71177fee7d39"
      },
      "source": [
        "from google.colab import drive\n",
        "drive.mount('/content/drive')"
      ],
      "execution_count": 1,
      "outputs": [
        {
          "output_type": "stream",
          "text": [
            "Mounted at /content/drive\n"
          ],
          "name": "stdout"
        }
      ]
    },
    {
      "cell_type": "code",
      "metadata": {
        "colab": {
          "base_uri": "https://localhost:8080/"
        },
        "id": "DPC91BMkVOyi",
        "outputId": "2fc94dd9-5321-4b5a-e0fc-af9e4a5fc69d"
      },
      "source": [
        "!git clone https://github.com/pytorch/fairseq"
      ],
      "execution_count": 2,
      "outputs": [
        {
          "output_type": "stream",
          "text": [
            "Cloning into 'fairseq'...\n",
            "remote: Enumerating objects: 27796, done.\u001b[K\n",
            "remote: Counting objects: 100% (217/217), done.\u001b[K\n",
            "remote: Compressing objects: 100% (123/123), done.\u001b[K\n",
            "remote: Total 27796 (delta 112), reused 150 (delta 93), pack-reused 27579\u001b[K\n",
            "Receiving objects: 100% (27796/27796), 11.62 MiB | 17.59 MiB/s, done.\n",
            "Resolving deltas: 100% (20931/20931), done.\n"
          ],
          "name": "stdout"
        }
      ]
    },
    {
      "cell_type": "code",
      "metadata": {
        "colab": {
          "base_uri": "https://localhost:8080/"
        },
        "id": "9jioVPKeVRaF",
        "outputId": "857b1aa6-113d-4c5f-b4d7-224701ec00d5"
      },
      "source": [
        "!pip install /content/fairseq/"
      ],
      "execution_count": 3,
      "outputs": [
        {
          "output_type": "stream",
          "text": [
            "Processing ./fairseq\n",
            "  Installing build dependencies ... \u001b[?25l\u001b[?25hdone\n",
            "  Getting requirements to build wheel ... \u001b[?25l\u001b[?25hdone\n",
            "  Installing backend dependencies ... \u001b[?25l\u001b[?25hdone\n",
            "    Preparing wheel metadata ... \u001b[?25l\u001b[?25hdone\n",
            "Collecting sacrebleu>=1.4.12\n",
            "\u001b[?25l  Downloading https://files.pythonhosted.org/packages/7e/57/0c7ca4e31a126189dab99c19951910bd081dea5bbd25f24b77107750eae7/sacrebleu-1.5.1-py3-none-any.whl (54kB)\n",
            "\u001b[K     |████████████████████████████████| 61kB 4.9MB/s \n",
            "\u001b[?25hRequirement already satisfied: regex in /usr/local/lib/python3.7/dist-packages (from fairseq==1.0.0a0+a2314b4) (2019.12.20)\n",
            "Requirement already satisfied: torch in /usr/local/lib/python3.7/dist-packages (from fairseq==1.0.0a0+a2314b4) (1.8.1+cu101)\n",
            "Requirement already satisfied: numpy; python_version >= \"3.7\" in /usr/local/lib/python3.7/dist-packages (from fairseq==1.0.0a0+a2314b4) (1.19.5)\n",
            "Requirement already satisfied: tqdm in /usr/local/lib/python3.7/dist-packages (from fairseq==1.0.0a0+a2314b4) (4.41.1)\n",
            "Collecting omegaconf<2.1\n",
            "  Downloading https://files.pythonhosted.org/packages/d0/eb/9d63ce09dd8aa85767c65668d5414958ea29648a0eec80a4a7d311ec2684/omegaconf-2.0.6-py3-none-any.whl\n",
            "Requirement already satisfied: cffi in /usr/local/lib/python3.7/dist-packages (from fairseq==1.0.0a0+a2314b4) (1.14.5)\n",
            "Collecting hydra-core<1.1\n",
            "\u001b[?25l  Downloading https://files.pythonhosted.org/packages/52/e3/fbd70dd0d3ce4d1d75c22d56c0c9f895cfa7ed6587a9ffb821d6812d6a60/hydra_core-1.0.6-py3-none-any.whl (123kB)\n",
            "\u001b[K     |████████████████████████████████| 133kB 16.4MB/s \n",
            "\u001b[?25hRequirement already satisfied: cython in /usr/local/lib/python3.7/dist-packages (from fairseq==1.0.0a0+a2314b4) (0.29.22)\n",
            "Collecting portalocker==2.0.0\n",
            "  Downloading https://files.pythonhosted.org/packages/89/a6/3814b7107e0788040870e8825eebf214d72166adf656ba7d4bf14759a06a/portalocker-2.0.0-py2.py3-none-any.whl\n",
            "Requirement already satisfied: typing-extensions in /usr/local/lib/python3.7/dist-packages (from torch->fairseq==1.0.0a0+a2314b4) (3.7.4.3)\n",
            "Collecting PyYAML>=5.1.*\n",
            "\u001b[?25l  Downloading https://files.pythonhosted.org/packages/7a/a5/393c087efdc78091afa2af9f1378762f9821c9c1d7a22c5753fb5ac5f97a/PyYAML-5.4.1-cp37-cp37m-manylinux1_x86_64.whl (636kB)\n",
            "\u001b[K     |████████████████████████████████| 645kB 15.6MB/s \n",
            "\u001b[?25hRequirement already satisfied: pycparser in /usr/local/lib/python3.7/dist-packages (from cffi->fairseq==1.0.0a0+a2314b4) (2.20)\n",
            "Requirement already satisfied: importlib-resources; python_version < \"3.9\" in /usr/local/lib/python3.7/dist-packages (from hydra-core<1.1->fairseq==1.0.0a0+a2314b4) (5.1.2)\n",
            "Collecting antlr4-python3-runtime==4.8\n",
            "\u001b[?25l  Downloading https://files.pythonhosted.org/packages/56/02/789a0bddf9c9b31b14c3e79ec22b9656185a803dc31c15f006f9855ece0d/antlr4-python3-runtime-4.8.tar.gz (112kB)\n",
            "\u001b[K     |████████████████████████████████| 112kB 34.5MB/s \n",
            "\u001b[?25hRequirement already satisfied: zipp>=0.4; python_version < \"3.8\" in /usr/local/lib/python3.7/dist-packages (from importlib-resources; python_version < \"3.9\"->hydra-core<1.1->fairseq==1.0.0a0+a2314b4) (3.4.1)\n",
            "Building wheels for collected packages: fairseq\n",
            "  Building wheel for fairseq (PEP 517) ... \u001b[?25l\u001b[?25hdone\n",
            "  Created wheel for fairseq: filename=fairseq-1.0.0a0+a2314b4-cp37-cp37m-linux_x86_64.whl size=4836774 sha256=c9d5eb09c2764a24f9dca9f0681471dd5d94d0c626cfd3a75a63cdf0fd573b66\n",
            "  Stored in directory: /tmp/pip-ephem-wheel-cache-a2fynqwx/wheels/94/b2/67/6399f5bcb823dc3a8b1e84965aaae15af9ed863fee98a59129\n",
            "Successfully built fairseq\n",
            "Building wheels for collected packages: antlr4-python3-runtime\n",
            "  Building wheel for antlr4-python3-runtime (setup.py) ... \u001b[?25l\u001b[?25hdone\n",
            "  Created wheel for antlr4-python3-runtime: filename=antlr4_python3_runtime-4.8-cp37-none-any.whl size=141231 sha256=031451564f3ac824b242771956921aa629f3264250a08abb2d0f516e9cc2b802\n",
            "  Stored in directory: /root/.cache/pip/wheels/e3/e2/fa/b78480b448b8579ddf393bebd3f47ee23aa84c89b6a78285c8\n",
            "Successfully built antlr4-python3-runtime\n",
            "Installing collected packages: portalocker, sacrebleu, PyYAML, omegaconf, antlr4-python3-runtime, hydra-core, fairseq\n",
            "  Found existing installation: PyYAML 3.13\n",
            "    Uninstalling PyYAML-3.13:\n",
            "      Successfully uninstalled PyYAML-3.13\n",
            "Successfully installed PyYAML-5.4.1 antlr4-python3-runtime-4.8 fairseq-1.0.0a0+a2314b4 hydra-core-1.0.6 omegaconf-2.0.6 portalocker-2.0.0 sacrebleu-1.5.1\n"
          ],
          "name": "stdout"
        }
      ]
    },
    {
      "cell_type": "code",
      "metadata": {
        "colab": {
          "base_uri": "https://localhost:8080/"
        },
        "id": "iQNuir1QVTbB",
        "outputId": "329fe873-dd23-4a81-d689-dee3934b8919"
      },
      "source": [
        "pip install subword-nmt"
      ],
      "execution_count": 4,
      "outputs": [
        {
          "output_type": "stream",
          "text": [
            "Collecting subword-nmt\n",
            "  Downloading https://files.pythonhosted.org/packages/74/60/6600a7bc09e7ab38bc53a48a20d8cae49b837f93f5842a41fe513a694912/subword_nmt-0.3.7-py2.py3-none-any.whl\n",
            "Installing collected packages: subword-nmt\n",
            "Successfully installed subword-nmt-0.3.7\n"
          ],
          "name": "stdout"
        }
      ]
    },
    {
      "cell_type": "code",
      "metadata": {
        "id": "0nw_Fbd7VWPp"
      },
      "source": [
        "# loading a trained model\n",
        "from fairseq.models.fconv import FConvModel\n",
        "en2hi = FConvModel.from_pretrained(\n",
        "  '/content/drive/MyDrive/eng_to_hindi/checkpoints/fconv_wmt_en_hi',\n",
        "  checkpoint_file='checkpoint_best.pt',\n",
        "  data_name_or_path='/content/drive/MyDrive/eng_to_hindi/data-bin/wmt17_en_hi',\n",
        "  bpe='subword_nmt',\n",
        "  bpe_codes='/content/drive/MyDrive/eng_to_hindi/wmt17_en_hi/code'\n",
        ")"
      ],
      "execution_count": 5,
      "outputs": []
    },
    {
      "cell_type": "code",
      "metadata": {
        "colab": {
          "base_uri": "https://localhost:8080/",
          "height": 35
        },
        "id": "GdHaRVj3VaGu",
        "outputId": "d1cf5966-1b55-4072-e809-585ebbcbe513"
      },
      "source": [
        "# A simple one-line test\n",
        "\n",
        "en2hi.translate('I want to borrow some money from the bank')"
      ],
      "execution_count": 9,
      "outputs": [
        {
          "output_type": "execute_result",
          "data": {
            "application/vnd.google.colaboratory.intrinsic+json": {
              "type": "string"
            },
            "text/plain": [
              "'मैं बैंक से कुछ पैसे बैंक से उधार लेना चाहता हूँ'"
            ]
          },
          "metadata": {
            "tags": []
          },
          "execution_count": 9
        }
      ]
    },
    {
      "cell_type": "code",
      "metadata": {
        "colab": {
          "base_uri": "https://localhost:8080/"
        },
        "id": "7a2J4C5tVdFC",
        "outputId": "441516ef-1708-4f74-af88-9c63594ca898"
      },
      "source": [
        "# Script for testing the model on a file containing English sentences\n",
        "\n",
        "source = '/content/drive/MyDrive/eng_to_hindi/demo/eng2.txt'\n",
        "dest = '/content/drive/MyDrive/eng_to_hindi/demo/hindi2.txt'\n",
        "\n",
        "eng_file = open(source, \"r\")\n",
        "eng_content = eng_file.read()\n",
        "print('Contents of English file: ')\n",
        "print(eng_content)\n",
        "eng_content = eng_content.split('\\n')\n",
        "\n",
        "hindi_content = ''\n",
        "for sentence in eng_content:\n",
        "  hindi_content += en2hi.translate(sentence) + '\\n'\n",
        "hindi_file = open(dest, \"w\")\n",
        "hindi_file.write(hindi_content)\n",
        "print('\\nContents of Hindi file: ')\n",
        "print(hindi_content)\n",
        "\n",
        "eng_file.close()\n",
        "hindi_file.close()"
      ],
      "execution_count": 10,
      "outputs": [
        {
          "output_type": "stream",
          "text": [
            "Contents of English file: \n",
            "Writers write descriptive paragraphs because their purpose is to describe something. \n",
            "Their point is that something is beautiful or disgusting or strangely intriguing. \n",
            "Writers write persuasive and argument paragraphs because their purpose is to persuade or convince someone. \n",
            "Their point is that their reader should see things a particular way and possibly take action on that new way of seeing things. \n",
            "Writers write paragraphs of comparison because the comparison will make their point clear to their readers.\n",
            "\n",
            "Contents of Hindi file: \n",
            "लेखक लिखते हैं क ् योंकि उनके उद ् देश ् य के कारण उनके प ् रयोजन का वर ् णन है ।\n",
            "उनका बिन ् दु यह है कि कुछ सुन ् दर या प ् रतिकूल होता है ।\n",
            "लेखक और तर ् क लिखते हैं क ् योंकि उनके उद ् देश ् य का प ् रयोग करने के लिए प ् रयुक ् त है\n",
            "उनका दृष ् टिकोण यह है कि उनके पाठक को विशेष रूप से एक विशेष रूप से देखने का प ् रयास करना चाहिए ।\n",
            "अपेक ् षाकृत तुलना में तुलना करने वाले लेखक की तुलना में तुलना की गई तुलना में तुलना की गणना करें क ् योंकि तुलना उनकी पठनाएँ है ।\n",
            "\n"
          ],
          "name": "stdout"
        }
      ]
    }
  ]
}